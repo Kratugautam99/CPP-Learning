{
 "cells": [
  {
   "cell_type": "code",
   "execution_count": 2,
   "id": "d3ae989a-5982-4cda-b73a-359a2df1c5d3",
   "metadata": {},
   "outputs": [
    {
     "name": "stdout",
     "output_type": "stream",
     "text": [
      "The Cython extension is already loaded. To reload it, use:\n",
      "  %reload_ext Cython\n"
     ]
    }
   ],
   "source": [
    "%load_ext Cython"
   ]
  },
  {
   "cell_type": "code",
   "execution_count": 5,
   "id": "102b2cff-8222-466b-bcb8-e977d9545695",
   "metadata": {},
   "outputs": [
    {
     "ename": "DistutilsPlatformError",
     "evalue": "Microsoft Visual C++ 14.0 or greater is required. Get it with \"Microsoft C++ Build Tools\": https://visualstudio.microsoft.com/visual-cpp-build-tools/",
     "output_type": "error",
     "traceback": [
      "\u001b[31m---------------------------------------------------------------------------\u001b[39m",
      "\u001b[31mDistutilsPlatformError\u001b[39m                    Traceback (most recent call last)",
      "\u001b[36mCell\u001b[39m\u001b[36m \u001b[39m\u001b[32mIn[5]\u001b[39m\u001b[32m, line 1\u001b[39m\n\u001b[32m----> \u001b[39m\u001b[32m1\u001b[39m \u001b[43mget_ipython\u001b[49m\u001b[43m(\u001b[49m\u001b[43m)\u001b[49m\u001b[43m.\u001b[49m\u001b[43mrun_cell_magic\u001b[49m\u001b[43m(\u001b[49m\u001b[33;43m'\u001b[39;49m\u001b[33;43mcython\u001b[39;49m\u001b[33;43m'\u001b[39;49m\u001b[43m,\u001b[49m\u001b[43m \u001b[49m\u001b[33;43m'\u001b[39;49m\u001b[33;43m'\u001b[39;49m\u001b[43m,\u001b[49m\u001b[43m \u001b[49m\u001b[33;43m'\u001b[39;49m\u001b[38;5;130;43;01m\\n\u001b[39;49;00m\u001b[33;43m# a: cython.int = 0\u001b[39;49m\u001b[38;5;130;43;01m\\n\u001b[39;49;00m\u001b[33;43m# for i in range(10):\u001b[39;49m\u001b[38;5;130;43;01m\\n\u001b[39;49;00m\u001b[33;43m#     a += i\u001b[39;49m\u001b[38;5;130;43;01m\\n\u001b[39;49;00m\u001b[33;43m# print(a)\u001b[39;49m\u001b[38;5;130;43;01m\\n\u001b[39;49;00m\u001b[33;43m'\u001b[39;49m\u001b[43m)\u001b[49m\n",
      "\u001b[36mFile \u001b[39m\u001b[32m~\\.conda\\envs\\myenv\\Lib\\site-packages\\IPython\\core\\interactiveshell.py:2565\u001b[39m, in \u001b[36mInteractiveShell.run_cell_magic\u001b[39m\u001b[34m(self, magic_name, line, cell)\u001b[39m\n\u001b[32m   2563\u001b[39m \u001b[38;5;28;01mwith\u001b[39;00m \u001b[38;5;28mself\u001b[39m.builtin_trap:\n\u001b[32m   2564\u001b[39m     args = (magic_arg_s, cell)\n\u001b[32m-> \u001b[39m\u001b[32m2565\u001b[39m     result = \u001b[43mfn\u001b[49m\u001b[43m(\u001b[49m\u001b[43m*\u001b[49m\u001b[43margs\u001b[49m\u001b[43m,\u001b[49m\u001b[43m \u001b[49m\u001b[43m*\u001b[49m\u001b[43m*\u001b[49m\u001b[43mkwargs\u001b[49m\u001b[43m)\u001b[49m\n\u001b[32m   2567\u001b[39m \u001b[38;5;66;03m# The code below prevents the output from being displayed\u001b[39;00m\n\u001b[32m   2568\u001b[39m \u001b[38;5;66;03m# when using magics with decorator @output_can_be_silenced\u001b[39;00m\n\u001b[32m   2569\u001b[39m \u001b[38;5;66;03m# when the last Python token in the expression is a ';'.\u001b[39;00m\n\u001b[32m   2570\u001b[39m \u001b[38;5;28;01mif\u001b[39;00m \u001b[38;5;28mgetattr\u001b[39m(fn, magic.MAGIC_OUTPUT_CAN_BE_SILENCED, \u001b[38;5;28;01mFalse\u001b[39;00m):\n",
      "\u001b[36mFile \u001b[39m\u001b[32m~\\.conda\\envs\\myenv\\Lib\\site-packages\\Cython\\Build\\IpythonMagic.py:338\u001b[39m, in \u001b[36mCythonMagics.cython\u001b[39m\u001b[34m(self, line, cell)\u001b[39m\n\u001b[32m    336\u001b[39m     \u001b[38;5;28;01mwith\u001b[39;00m captured_fd(\u001b[32m1\u001b[39m) \u001b[38;5;28;01mas\u001b[39;00m get_stdout:\n\u001b[32m    337\u001b[39m         \u001b[38;5;28;01mwith\u001b[39;00m captured_fd(\u001b[32m2\u001b[39m) \u001b[38;5;28;01mas\u001b[39;00m get_stderr:\n\u001b[32m--> \u001b[39m\u001b[32m338\u001b[39m             \u001b[38;5;28;43mself\u001b[39;49m\u001b[43m.\u001b[49m\u001b[43m_build_extension\u001b[49m\u001b[43m(\u001b[49m\n\u001b[32m    339\u001b[39m \u001b[43m                \u001b[49m\u001b[43mextension\u001b[49m\u001b[43m,\u001b[49m\u001b[43m \u001b[49m\u001b[43mlib_dir\u001b[49m\u001b[43m,\u001b[49m\u001b[43m \u001b[49m\u001b[43mpgo_step_name\u001b[49m\u001b[43m=\u001b[49m\u001b[33;43m'\u001b[39;49m\u001b[33;43muse\u001b[39;49m\u001b[33;43m'\u001b[39;49m\u001b[43m \u001b[49m\u001b[38;5;28;43;01mif\u001b[39;49;00m\u001b[43m \u001b[49m\u001b[43margs\u001b[49m\u001b[43m.\u001b[49m\u001b[43mpgo\u001b[49m\u001b[43m \u001b[49m\u001b[38;5;28;43;01melse\u001b[39;49;00m\u001b[43m \u001b[49m\u001b[38;5;28;43;01mNone\u001b[39;49;00m\u001b[43m,\u001b[49m\u001b[43m \u001b[49m\u001b[43mquiet\u001b[49m\u001b[43m=\u001b[49m\u001b[43margs\u001b[49m\u001b[43m.\u001b[49m\u001b[43mquiet\u001b[49m\u001b[43m)\u001b[49m\n\u001b[32m    340\u001b[39m \u001b[38;5;28;01mexcept\u001b[39;00m (distutils.errors.CompileError, distutils.errors.LinkError):\n\u001b[32m    341\u001b[39m     \u001b[38;5;66;03m# Build failed, print error message from compiler/linker\u001b[39;00m\n\u001b[32m    342\u001b[39m     print_compiler_output(get_stdout(), get_stderr(), sys.stderr)\n",
      "\u001b[36mFile \u001b[39m\u001b[32m~\\.conda\\envs\\myenv\\Lib\\site-packages\\Cython\\Build\\IpythonMagic.py:439\u001b[39m, in \u001b[36mCythonMagics._build_extension\u001b[39m\u001b[34m(self, extension, lib_dir, temp_dir, pgo_step_name, quiet)\u001b[39m\n\u001b[32m    437\u001b[39m     \u001b[38;5;28;01mif\u001b[39;00m \u001b[38;5;129;01mnot\u001b[39;00m quiet:\n\u001b[32m    438\u001b[39m         old_threshold = distutils.log.set_threshold(distutils.log.DEBUG)\n\u001b[32m--> \u001b[39m\u001b[32m439\u001b[39m     \u001b[43mbuild_extension\u001b[49m\u001b[43m.\u001b[49m\u001b[43mrun\u001b[49m\u001b[43m(\u001b[49m\u001b[43m)\u001b[49m\n\u001b[32m    440\u001b[39m \u001b[38;5;28;01mfinally\u001b[39;00m:\n\u001b[32m    441\u001b[39m     \u001b[38;5;28;01mif\u001b[39;00m \u001b[38;5;129;01mnot\u001b[39;00m quiet \u001b[38;5;129;01mand\u001b[39;00m old_threshold \u001b[38;5;129;01mis\u001b[39;00m \u001b[38;5;129;01mnot\u001b[39;00m \u001b[38;5;28;01mNone\u001b[39;00m:\n",
      "\u001b[36mFile \u001b[39m\u001b[32m~\\.conda\\envs\\myenv\\Lib\\site-packages\\setuptools\\_distutils\\command\\build_ext.py:368\u001b[39m, in \u001b[36mbuild_ext.run\u001b[39m\u001b[34m(self)\u001b[39m\n\u001b[32m    365\u001b[39m     \u001b[38;5;28mself\u001b[39m.compiler.set_link_objects(\u001b[38;5;28mself\u001b[39m.link_objects)\n\u001b[32m    367\u001b[39m \u001b[38;5;66;03m# Now actually compile and link everything.\u001b[39;00m\n\u001b[32m--> \u001b[39m\u001b[32m368\u001b[39m \u001b[38;5;28;43mself\u001b[39;49m\u001b[43m.\u001b[49m\u001b[43mbuild_extensions\u001b[49m\u001b[43m(\u001b[49m\u001b[43m)\u001b[49m\n",
      "\u001b[36mFile \u001b[39m\u001b[32m~\\.conda\\envs\\myenv\\Lib\\site-packages\\setuptools\\_distutils\\command\\build_ext.py:484\u001b[39m, in \u001b[36mbuild_ext.build_extensions\u001b[39m\u001b[34m(self)\u001b[39m\n\u001b[32m    482\u001b[39m     \u001b[38;5;28mself\u001b[39m._build_extensions_parallel()\n\u001b[32m    483\u001b[39m \u001b[38;5;28;01melse\u001b[39;00m:\n\u001b[32m--> \u001b[39m\u001b[32m484\u001b[39m     \u001b[38;5;28;43mself\u001b[39;49m\u001b[43m.\u001b[49m\u001b[43m_build_extensions_serial\u001b[49m\u001b[43m(\u001b[49m\u001b[43m)\u001b[49m\n",
      "\u001b[36mFile \u001b[39m\u001b[32m~\\.conda\\envs\\myenv\\Lib\\site-packages\\setuptools\\_distutils\\command\\build_ext.py:510\u001b[39m, in \u001b[36mbuild_ext._build_extensions_serial\u001b[39m\u001b[34m(self)\u001b[39m\n\u001b[32m    508\u001b[39m \u001b[38;5;28;01mfor\u001b[39;00m ext \u001b[38;5;129;01min\u001b[39;00m \u001b[38;5;28mself\u001b[39m.extensions:\n\u001b[32m    509\u001b[39m     \u001b[38;5;28;01mwith\u001b[39;00m \u001b[38;5;28mself\u001b[39m._filter_build_errors(ext):\n\u001b[32m--> \u001b[39m\u001b[32m510\u001b[39m         \u001b[38;5;28;43mself\u001b[39;49m\u001b[43m.\u001b[49m\u001b[43mbuild_extension\u001b[49m\u001b[43m(\u001b[49m\u001b[43mext\u001b[49m\u001b[43m)\u001b[49m\n",
      "\u001b[36mFile \u001b[39m\u001b[32m~\\.conda\\envs\\myenv\\Lib\\site-packages\\setuptools\\_distutils\\command\\build_ext.py:565\u001b[39m, in \u001b[36mbuild_ext.build_extension\u001b[39m\u001b[34m(self, ext)\u001b[39m\n\u001b[32m    562\u001b[39m \u001b[38;5;28;01mfor\u001b[39;00m undef \u001b[38;5;129;01min\u001b[39;00m ext.undef_macros:\n\u001b[32m    563\u001b[39m     macros.append((undef,))\n\u001b[32m--> \u001b[39m\u001b[32m565\u001b[39m objects = \u001b[38;5;28;43mself\u001b[39;49m\u001b[43m.\u001b[49m\u001b[43mcompiler\u001b[49m\u001b[43m.\u001b[49m\u001b[43mcompile\u001b[49m\u001b[43m(\u001b[49m\n\u001b[32m    566\u001b[39m \u001b[43m    \u001b[49m\u001b[43msources\u001b[49m\u001b[43m,\u001b[49m\n\u001b[32m    567\u001b[39m \u001b[43m    \u001b[49m\u001b[43moutput_dir\u001b[49m\u001b[43m=\u001b[49m\u001b[38;5;28;43mself\u001b[39;49m\u001b[43m.\u001b[49m\u001b[43mbuild_temp\u001b[49m\u001b[43m,\u001b[49m\n\u001b[32m    568\u001b[39m \u001b[43m    \u001b[49m\u001b[43mmacros\u001b[49m\u001b[43m=\u001b[49m\u001b[43mmacros\u001b[49m\u001b[43m,\u001b[49m\n\u001b[32m    569\u001b[39m \u001b[43m    \u001b[49m\u001b[43minclude_dirs\u001b[49m\u001b[43m=\u001b[49m\u001b[43mext\u001b[49m\u001b[43m.\u001b[49m\u001b[43minclude_dirs\u001b[49m\u001b[43m,\u001b[49m\n\u001b[32m    570\u001b[39m \u001b[43m    \u001b[49m\u001b[43mdebug\u001b[49m\u001b[43m=\u001b[49m\u001b[38;5;28;43mself\u001b[39;49m\u001b[43m.\u001b[49m\u001b[43mdebug\u001b[49m\u001b[43m,\u001b[49m\n\u001b[32m    571\u001b[39m \u001b[43m    \u001b[49m\u001b[43mextra_postargs\u001b[49m\u001b[43m=\u001b[49m\u001b[43mextra_args\u001b[49m\u001b[43m,\u001b[49m\n\u001b[32m    572\u001b[39m \u001b[43m    \u001b[49m\u001b[43mdepends\u001b[49m\u001b[43m=\u001b[49m\u001b[43mext\u001b[49m\u001b[43m.\u001b[49m\u001b[43mdepends\u001b[49m\u001b[43m,\u001b[49m\n\u001b[32m    573\u001b[39m \u001b[43m\u001b[49m\u001b[43m)\u001b[49m\n\u001b[32m    575\u001b[39m \u001b[38;5;66;03m# XXX outdated variable, kept here in case third-part code\u001b[39;00m\n\u001b[32m    576\u001b[39m \u001b[38;5;66;03m# needs it.\u001b[39;00m\n\u001b[32m    577\u001b[39m \u001b[38;5;28mself\u001b[39m._built_objects = objects[:]\n",
      "\u001b[36mFile \u001b[39m\u001b[32m~\\.conda\\envs\\myenv\\Lib\\site-packages\\setuptools\\_distutils\\compilers\\C\\msvc.py:384\u001b[39m, in \u001b[36mCompiler.compile\u001b[39m\u001b[34m(self, sources, output_dir, macros, include_dirs, debug, extra_preargs, extra_postargs, depends)\u001b[39m\n\u001b[32m    372\u001b[39m \u001b[38;5;28;01mdef\u001b[39;00m\u001b[38;5;250m \u001b[39m\u001b[34mcompile\u001b[39m(  \u001b[38;5;66;03m# noqa: C901\u001b[39;00m\n\u001b[32m    373\u001b[39m     \u001b[38;5;28mself\u001b[39m,\n\u001b[32m    374\u001b[39m     sources,\n\u001b[32m   (...)\u001b[39m\u001b[32m    381\u001b[39m     depends=\u001b[38;5;28;01mNone\u001b[39;00m,\n\u001b[32m    382\u001b[39m ):\n\u001b[32m    383\u001b[39m     \u001b[38;5;28;01mif\u001b[39;00m \u001b[38;5;129;01mnot\u001b[39;00m \u001b[38;5;28mself\u001b[39m.initialized:\n\u001b[32m--> \u001b[39m\u001b[32m384\u001b[39m         \u001b[38;5;28;43mself\u001b[39;49m\u001b[43m.\u001b[49m\u001b[43minitialize\u001b[49m\u001b[43m(\u001b[49m\u001b[43m)\u001b[49m\n\u001b[32m    385\u001b[39m     compile_info = \u001b[38;5;28mself\u001b[39m._setup_compile(\n\u001b[32m    386\u001b[39m         output_dir, macros, include_dirs, sources, depends, extra_postargs\n\u001b[32m    387\u001b[39m     )\n\u001b[32m    388\u001b[39m     macros, objects, extra_postargs, pp_opts, build = compile_info\n",
      "\u001b[36mFile \u001b[39m\u001b[32m~\\.conda\\envs\\myenv\\Lib\\site-packages\\setuptools\\_distutils\\compilers\\C\\msvc.py:294\u001b[39m, in \u001b[36mCompiler.initialize\u001b[39m\u001b[34m(self, plat_name)\u001b[39m\n\u001b[32m    288\u001b[39m     \u001b[38;5;28;01mraise\u001b[39;00m DistutilsPlatformError(\n\u001b[32m    289\u001b[39m         \u001b[33mf\u001b[39m\u001b[33m\"\u001b[39m\u001b[33m--plat-name must be one of \u001b[39m\u001b[38;5;132;01m{\u001b[39;00m\u001b[38;5;28mtuple\u001b[39m(_vcvars_names)\u001b[38;5;132;01m}\u001b[39;00m\u001b[33m\"\u001b[39m\n\u001b[32m    290\u001b[39m     )\n\u001b[32m    292\u001b[39m plat_spec = _get_vcvars_spec(get_host_platform(), plat_name)\n\u001b[32m--> \u001b[39m\u001b[32m294\u001b[39m vc_env = \u001b[43m_get_vc_env\u001b[49m\u001b[43m(\u001b[49m\u001b[43mplat_spec\u001b[49m\u001b[43m)\u001b[49m\n\u001b[32m    295\u001b[39m \u001b[38;5;28;01mif\u001b[39;00m \u001b[38;5;129;01mnot\u001b[39;00m vc_env:\n\u001b[32m    296\u001b[39m     \u001b[38;5;28;01mraise\u001b[39;00m DistutilsPlatformError(\n\u001b[32m    297\u001b[39m         \u001b[33m\"\u001b[39m\u001b[33mUnable to find a compatible Visual Studio installation.\u001b[39m\u001b[33m\"\u001b[39m\n\u001b[32m    298\u001b[39m     )\n",
      "\u001b[36mFile \u001b[39m\u001b[32m~\\.conda\\envs\\myenv\\Lib\\site-packages\\setuptools\\_distutils\\compilers\\C\\msvc.py:155\u001b[39m, in \u001b[36m_get_vc_env\u001b[39m\u001b[34m(plat_spec)\u001b[39m\n\u001b[32m    153\u001b[39m vcvarsall, _ = _find_vcvarsall(plat_spec)\n\u001b[32m    154\u001b[39m \u001b[38;5;28;01mif\u001b[39;00m \u001b[38;5;129;01mnot\u001b[39;00m vcvarsall:\n\u001b[32m--> \u001b[39m\u001b[32m155\u001b[39m     \u001b[38;5;28;01mraise\u001b[39;00m DistutilsPlatformError(\n\u001b[32m    156\u001b[39m         \u001b[33m'\u001b[39m\u001b[33mMicrosoft Visual C++ 14.0 or greater is required. \u001b[39m\u001b[33m'\u001b[39m\n\u001b[32m    157\u001b[39m         \u001b[33m'\u001b[39m\u001b[33mGet it with \u001b[39m\u001b[33m\"\u001b[39m\u001b[33mMicrosoft C++ Build Tools\u001b[39m\u001b[33m\"\u001b[39m\u001b[33m: \u001b[39m\u001b[33m'\u001b[39m\n\u001b[32m    158\u001b[39m         \u001b[33m'\u001b[39m\u001b[33mhttps://visualstudio.microsoft.com/visual-cpp-build-tools/\u001b[39m\u001b[33m'\u001b[39m\n\u001b[32m    159\u001b[39m     )\n\u001b[32m    161\u001b[39m \u001b[38;5;28;01mtry\u001b[39;00m:\n\u001b[32m    162\u001b[39m     out = subprocess.check_output(\n\u001b[32m    163\u001b[39m         \u001b[33mf\u001b[39m\u001b[33m'\u001b[39m\u001b[33mcmd /u /c \u001b[39m\u001b[33m\"\u001b[39m\u001b[38;5;132;01m{\u001b[39;00mvcvarsall\u001b[38;5;132;01m}\u001b[39;00m\u001b[33m\"\u001b[39m\u001b[33m \u001b[39m\u001b[38;5;132;01m{\u001b[39;00mplat_spec\u001b[38;5;132;01m}\u001b[39;00m\u001b[33m && set\u001b[39m\u001b[33m'\u001b[39m,\n\u001b[32m    164\u001b[39m         stderr=subprocess.STDOUT,\n\u001b[32m    165\u001b[39m     ).decode(\u001b[33m'\u001b[39m\u001b[33mutf-16le\u001b[39m\u001b[33m'\u001b[39m, errors=\u001b[33m'\u001b[39m\u001b[33mreplace\u001b[39m\u001b[33m'\u001b[39m)\n",
      "\u001b[31mDistutilsPlatformError\u001b[39m: Microsoft Visual C++ 14.0 or greater is required. Get it with \"Microsoft C++ Build Tools\": https://visualstudio.microsoft.com/visual-cpp-build-tools/"
     ]
    }
   ],
   "source": [
    "%%cython\n",
    "\n",
    "a: cython.int = 0\n",
    "for i in range(10):\n",
    "    a += i\n",
    "print(a)"
   ]
  }
 ],
 "metadata": {
  "kernelspec": {
   "display_name": "Python 3 (ipykernel)",
   "language": "python",
   "name": "python3"
  },
  "language_info": {
   "codemirror_mode": {
    "name": "ipython",
    "version": 3
   },
   "file_extension": ".py",
   "mimetype": "text/x-python",
   "name": "python",
   "nbconvert_exporter": "python",
   "pygments_lexer": "ipython3",
   "version": "3.12.11"
  }
 },
 "nbformat": 4,
 "nbformat_minor": 5
}
